{
  "cells": [
    {
      "cell_type": "markdown",
      "metadata": {
        "id": "-Uanud7qISNl"
      },
      "source": [
        "# **2nd assignment in data science**"
      ]
    },
    {
      "cell_type": "markdown",
      "metadata": {
        "id": "p9FTssAuHzo3"
      },
      "source": [
        "**1. Write a Pandas program to create and display a one-dimensional array-like **\n",
        "**object containing an array of data using Pandas module.**\n"
      ]
    },
    {
      "cell_type": "code",
      "execution_count": 13,
      "metadata": {
        "colab": {
          "base_uri": "https://localhost:8080/"
        },
        "id": "hhP4RmNHIF21",
        "outputId": "c88575aa-4fd0-408a-f572-538346370e0d"
      },
      "outputs": [
        {
          "name": "stdout",
          "output_type": "stream",
          "text": [
            "0    10\n",
            "1    20\n",
            "2    30\n",
            "3    40\n",
            "4    50\n",
            "dtype: int64\n"
          ]
        }
      ],
      "source": [
        "import pandas as pd\n",
        "# Create a one-dimensional array-like object\n",
        "data = pd.Series([10, 20, 30, 40, 50])\n",
        "# Display the array\n",
        "print(data)"
      ]
    },
    {
      "cell_type": "markdown",
      "metadata": {
        "id": "ubzeZIEvJzlC"
      },
      "source": [
        "**2. Write a Pandas program to convert a Panda module Series to Python list and it's type.**"
      ]
    },
    {
      "cell_type": "code",
      "execution_count": 14,
      "metadata": {
        "colab": {
          "base_uri": "https://localhost:8080/"
        },
        "id": "xCmNOTg-J-QD",
        "outputId": "b968a91d-49ea-4257-8867-38231e7adc16"
      },
      "outputs": [
        {
          "name": "stdout",
          "output_type": "stream",
          "text": [
            "Converted List: [10, 20, 30, 40, 50]\n",
            "Type of the Converted List: <class 'list'>\n"
          ]
        }
      ],
      "source": [
        "import pandas as pd\n",
        "# Create a Pandas Series\n",
        "data = pd.Series([10, 20, 30, 40, 50])\n",
        "# Convert the Pandas Series to a Python list\n",
        "data_list = data.tolist()\n",
        "# Display the converted list and its type\n",
        "print(\"Converted List:\", data_list)\n",
        "print(\"Type of the Converted List:\", type(data_list))"
      ]
    },
    {
      "cell_type": "markdown",
      "metadata": {
        "id": "f-dm2YHDKRg9"
      },
      "source": [
        "**3. Write a Pandas program to compare the elements of the two Pandas Series.**"
      ]
    },
    {
      "cell_type": "code",
      "execution_count": 15,
      "metadata": {
        "colab": {
          "base_uri": "https://localhost:8080/"
        },
        "id": "3W-7GbVXKaq_",
        "outputId": "3e26bb4e-ed88-442d-941f-f0011c088a99"
      },
      "outputs": [
        {
          "name": "stdout",
          "output_type": "stream",
          "text": [
            "Comparison Result:\n",
            "0     True\n",
            "1    False\n",
            "2     True\n",
            "3     True\n",
            "4    False\n",
            "dtype: bool\n"
          ]
        }
      ],
      "source": [
        "import pandas as pd\n",
        "# Creating two Pandas Series\n",
        "series1 = pd.Series([1, 2, 3, 4, 5])\n",
        "series2 = pd.Series([1, 3, 3, 4, 6])\n",
        "# Comparing the elements of the two Series\n",
        "comparison_result = series1 == series2\n",
        "# Display the comparison result\n",
        "print(\"Comparison Result:\")\n",
        "print(comparison_result)\n"
      ]
    },
    {
      "cell_type": "markdown",
      "metadata": {
        "id": "5cu2a3leKorR"
      },
      "source": [
        "**4. Write a Pandas program to change the data type of given a column or a Series.**\n"
      ]
    },
    {
      "cell_type": "code",
      "execution_count": 16,
      "metadata": {
        "colab": {
          "base_uri": "https://localhost:8080/"
        },
        "id": "kikNs54sKpTy",
        "outputId": "d6ba85e8-2bab-4e29-d07e-c7a63424fedc"
      },
      "outputs": [
        {
          "name": "stdout",
          "output_type": "stream",
          "text": [
            "Data type before conversion:\n",
            "object\n",
            "\n",
            "Data type after conversion:\n",
            "int64\n"
          ]
        }
      ],
      "source": [
        "import pandas as pd\n",
        "# Creating a Pandas Series with mixed data types\n",
        "data = pd.Series(['1', '2', '3', '4', '5'])\n",
        "# Displaying the data type of the Series before conversion\n",
        "print(\"Data type before conversion:\")\n",
        "print(data.dtype)\n",
        "# Converting the data type of the Series to integer\n",
        "data = data.astype(int)\n",
        "# Display the data type of the Series after conversion\n",
        "print(\"\\nData type after conversion:\")\n",
        "print(data.dtype)"
      ]
    },
    {
      "cell_type": "markdown",
      "metadata": {
        "id": "AF5gSfZkKpuE"
      },
      "source": [
        "**5. Write a Pandas program to get the powers of an array values element-wise.**\n",
        "**Note: First array elements raised to powers from second array**\n",
        "**Sample data: {'X':[78,85,96,80,86], 'Y':[84,94,89,83,86],'Z':[86,97,96,72,83]}**\n",
        "# **Expected Output:**\n",
        "***X Y Z***\n",
        "**0 78 84 86**\n",
        "**1 85 94 97**\n",
        "**2 96 89 96**\n",
        "**3 80 83 72**\n",
        "**4 86 86 83**"
      ]
    },
    {
      "cell_type": "code",
      "execution_count": 17,
      "metadata": {
        "colab": {
          "base_uri": "https://localhost:8080/"
        },
        "id": "e1kGAg7cKqId",
        "outputId": "b054a698-bb8a-4425-ffff-69c019e283cb"
      },
      "outputs": [
        {
          "name": "stdout",
          "output_type": "stream",
          "text": [
            "    X   Y   Z                  X^Y\n",
            "0  78  84  86                    0\n",
            "1  85  94  97  4551265826121030281\n",
            "2  96  89  96                    0\n",
            "3  80  83  72                    0\n",
            "4  86  86  83                    0\n"
          ]
        }
      ],
      "source": [
        "import pandas as pd\n",
        "# Sample data\n",
        "data = {'X': [78, 85, 96, 80, 86],\n",
        "        'Y': [84, 94, 89, 83, 86],\n",
        "        'Z': [86, 97, 96, 72, 83]}\n",
        "# Creating a DataFrame from the sample data\n",
        "df = pd.DataFrame(data)\n",
        "# Getting the powers of array values element-wise\n",
        "result = df.apply(lambda x: pow(x['X'], x['Y']), axis=1)\n",
        "# Adding the result as a new column to the DataFrame\n",
        "df['X^Y'] = result\n",
        "# Display the DataFrame\n",
        "print(df)"
      ]
    },
    {
      "cell_type": "markdown",
      "metadata": {
        "id": "wD1f-6rJMle0"
      },
      "source": [
        "**6. Write a Pandas program to get the first 3 rows of a given DataFrame.**\n",
        "**Sample Python dictionary data and list labels:**\n",
        "**exam_data = {'name': ['Anastasia', 'Dima', 'Katherine', 'James', 'Emily'**, **'Michael', **\n",
        "**'Matthew', 'Laura', 'Kevin', 'Jonas'],**\n",
        "**'score': [12.5, 9, 16.5, np.nan, 9, 20, 14.5, np.nan, 8, 19],**\n",
        "**'attempts': [1, 3, 2, 3, 2, 3, 1, 1, 2, 1],**\n",
        "**'qualify': ['yes', 'no', 'yes', 'no', 'no', 'yes', 'yes', 'no', 'no', 'yes']}**\n",
        "**labels = ['a', 'b', 'c', 'd', 'e', 'f', 'g', 'h', 'i', 'j']**\n",
        "**Expected Output:**\n",
        "**First three rows of the data frame:**\n",
        "**attempts name qualify score**\n",
        "**a 1 Anastasia yes 12.5**\n",
        "**b 3 Dima no 9.0**\n",
        "**c 2 Katherine yes 16.5**"
      ]
    },
    {
      "cell_type": "code",
      "execution_count": 22,
      "metadata": {
        "colab": {
          "base_uri": "https://localhost:8080/"
        },
        "id": "nM7h8Uo7LvDo",
        "outputId": "bb64ba27-17fa-4d16-9bd1-012846b3e251"
      },
      "outputs": [
        {
          "name": "stdout",
          "output_type": "stream",
          "text": [
            "First three rows of the data frame:\n",
            "        name  score  attempts qualify\n",
            "a  Anastasia   12.5         1     yes\n",
            "b       Dima    9.0         3      no\n",
            "c  Katherine   16.5         2     yes\n"
          ]
        }
      ],
      "source": [
        "import pandas as pd\n",
        "import numpy as np\n",
        "# Sample data\n",
        "exam_data = {\n",
        "    'name': ['Anastasia', 'Dima', 'Katherine', 'James', 'Emily', 'Michael', 'Matthew', 'Laura', 'Kevin', 'Jonas'],\n",
        "    'score': [12.5, 9, 16.5, np.nan, 9, 20, 14.5, np.nan, 8, 19],\n",
        "    'attempts': [1, 3, 2, 3, 2, 3, 1, 1, 2, 1],\n",
        "    'qualify': ['yes', 'no', 'yes', 'no', 'no', 'yes', 'yes', 'no', 'no', 'yes']\n",
        "             }\n",
        "labels = ['a', 'b', 'c', 'd', 'e', 'f', 'g', 'h', 'i', 'j']\n",
        "# Creating DataFrame\n",
        "df = pd.DataFrame(exam_data, index=labels)\n",
        "# Getting the first three rows of the DataFrame\n",
        "first_three_rows = df.head(3)\n",
        "# Display the result\n",
        "print(\"First three rows of the data frame:\")\n",
        "print(first_three_rows)"
      ]
    },
    {
      "cell_type": "markdown",
      "metadata": {
        "id": "VtvovgwbNqOk"
      },
      "source": [
        "**7. Write a Pandas program to display the default index and set a column as an**\n",
        "**Index in a given dataframe.**"
      ]
    },
    {
      "cell_type": "code",
      "execution_count": 1,
      "metadata": {
        "colab": {
          "base_uri": "https://localhost:8080/"
        },
        "id": "6ZcHjvU_PBDz",
        "outputId": "7f143697-40c6-4db0-caa1-da63e2870976"
      },
      "outputs": [
        {
          "name": "stdout",
          "output_type": "stream",
          "text": [
            "Default Index:\n",
            "    Street    ID Class first_name last_name         DOB  Age\n",
            "0  Street1  S001     V    Alberto    Franco  15/05/2002   35\n",
            "1  Street2  S002     V       Gino   Mcneill  17/05/2002   32\n",
            "2  Street3  S003    VI       Ryan    Parkes  16/02/1999   33\n",
            "3  Street4  S004    VI      Eesha    Hinton  25/09/1998   30\n",
            "4  Street5  S005     V       Gino   Mcneill  11/05/2002   31\n",
            "5  Street6  S006    VI      David    Parkes  15/09/1997   32\n",
            "\n",
            " DataFrame with 'ID' column as Index:\n",
            "\n",
            "\n",
            "       Street Class first_name last_name         DOB  Age\n",
            "ID                                                       \n",
            "S001  Street1     V    Alberto    Franco  15/05/2002   35\n",
            "S002  Street2     V       Gino   Mcneill  17/05/2002   32\n",
            "S003  Street3    VI       Ryan    Parkes  16/02/1999   33\n",
            "S004  Street4    VI      Eesha    Hinton  25/09/1998   30\n",
            "S005  Street5     V       Gino   Mcneill  11/05/2002   31\n",
            "S006  Street6    VI      David    Parkes  15/09/1997   32\n"
          ]
        }
      ],
      "source": [
        "import pandas as pd\n",
        "# Sample data\n",
        "data = {\n",
        "    'Street': ['Street1', 'Street2', 'Street3', 'Street4', 'Street5', 'Street6'],\n",
        "    'ID': ['S001', 'S002', 'S003', 'S004', 'S005', 'S006'],\n",
        "    'Class': ['V', 'V', 'VI', 'VI', 'V', 'VI'],\n",
        "    'first_name': ['Alberto', 'Gino', 'Ryan', 'Eesha', 'Gino', 'David'],\n",
        "    'last_name': ['Franco', 'Mcneill', 'Parkes', 'Hinton', 'Mcneill', 'Parkes'],\n",
        "    'DOB': ['15/05/2002', '17/05/2002', '16/02/1999', '25/09/1998', '11/05/2002', '15/09/1997'],\n",
        "    'Age': [35, 32, 33, 30, 31, 32]\n",
        "                 }\n",
        "# Creating DataFrame\n",
        "df = pd.DataFrame(data)\n",
        "# Displaying the default index\n",
        "print(\"Default Index:\")\n",
        "print(df)\n",
        "# Setting 'ID' column as index\n",
        "df.set_index('ID', inplace=True)\n",
        "# Display the DataFrame with 'ID' column as index\n",
        "print(\"\\n DataFrame with 'ID' column as Index:\")\n",
        "print(\"\\n\")\n",
        "print(df)"
      ]
    },
    {
      "cell_type": "markdown",
      "metadata": {
        "id": "GuNb-uaJRC7n"
      },
      "source": [
        "**8. Write a Pandas program to display the default index and set a column as an **\n",
        "**Index in a given dataframe and then reset the index**"
      ]
    },
    {
      "cell_type": "code",
      "execution_count": 2,
      "metadata": {
        "colab": {
          "base_uri": "https://localhost:8080/"
        },
        "id": "5NpTsqwNRVqS",
        "outputId": "6ee0614b-a051-4e57-fa84-1a0d55b921b5"
      },
      "outputs": [
        {
          "name": "stdout",
          "output_type": "stream",
          "text": [
            "Default Index:\n",
            "    Street    ID Class first_name last_name         DOB  Age\n",
            "0  Street1  S001     V    Alberto    Franco  15/05/2002   35\n",
            "1  Street2  S002     V       Gino   Mcneill  17/05/2002   32\n",
            "2  Street3  S003    VI       Ryan    Parkes  16/02/1999   33\n",
            "3  Street4  S004    VI      Eesha    Hinton  25/09/1998   30\n",
            "4  Street5  S005     V       Gino   Mcneill  11/05/2002   31\n",
            "5  Street6  S006    VI      David    Parkes  15/09/1997   32\n",
            "\n",
            "DataFrame with 'ID' column as Index:\n",
            "\n",
            "\n",
            "       Street Class first_name last_name         DOB  Age\n",
            "ID                                                       \n",
            "S001  Street1     V    Alberto    Franco  15/05/2002   35\n",
            "S002  Street2     V       Gino   Mcneill  17/05/2002   32\n",
            "S003  Street3    VI       Ryan    Parkes  16/02/1999   33\n",
            "S004  Street4    VI      Eesha    Hinton  25/09/1998   30\n",
            "S005  Street5     V       Gino   Mcneill  11/05/2002   31\n",
            "S006  Street6    VI      David    Parkes  15/09/1997   32\n",
            "\n",
            "DataFrame after resetting the index:\n",
            "\n",
            "\n",
            "     ID   Street Class first_name last_name         DOB  Age\n",
            "0  S001  Street1     V    Alberto    Franco  15/05/2002   35\n",
            "1  S002  Street2     V       Gino   Mcneill  17/05/2002   32\n",
            "2  S003  Street3    VI       Ryan    Parkes  16/02/1999   33\n",
            "3  S004  Street4    VI      Eesha    Hinton  25/09/1998   30\n",
            "4  S005  Street5     V       Gino   Mcneill  11/05/2002   31\n",
            "5  S006  Street6    VI      David    Parkes  15/09/1997   32\n"
          ]
        }
      ],
      "source": [
        "import pandas as pd\n",
        "\n",
        "# Sample data\n",
        "data = {\n",
        "    'Street': ['Street1', 'Street2', 'Street3', 'Street4', 'Street5', 'Street6'],\n",
        "    'ID': ['S001', 'S002', 'S003', 'S004', 'S005', 'S006'],\n",
        "    'Class': ['V', 'V', 'VI', 'VI', 'V', 'VI'],\n",
        "    'first_name': ['Alberto', 'Gino', 'Ryan', 'Eesha', 'Gino', 'David'],\n",
        "    'last_name': ['Franco', 'Mcneill', 'Parkes', 'Hinton', 'Mcneill', 'Parkes'],\n",
        "    'DOB': ['15/05/2002', '17/05/2002', '16/02/1999', '25/09/1998', '11/05/2002', '15/09/1997'],\n",
        "    'Age': [35, 32, 33, 30, 31, 32]\n",
        "}\n",
        "# Creating DataFrame\n",
        "df = pd.DataFrame(data)\n",
        "# Displaying the default index\n",
        "print(\"Default Index:\")\n",
        "print(df)\n",
        "# Setting 'ID' column as index\n",
        "df.set_index('ID', inplace=True)\n",
        "# Displaying the DataFrame with 'ID' column as index\n",
        "print(\"\\nDataFrame with 'ID' column as Index:\")\n",
        "print(\"\\n\")\n",
        "print(df)\n",
        "# Resetting the index\n",
        "df.reset_index(inplace=True)\n",
        "# Displaying the DataFrame after resetting the index\n",
        "print(\"\\nDataFrame after resetting the index:\")\n",
        "print(\"\\n\")\n",
        "print(df)"
      ]
    },
    {
      "cell_type": "markdown",
      "metadata": {
        "id": "1rSqKW9uR5-Q"
      },
      "source": [
        "**9. Write a Pandas program to create a dataframe indexing by date and time.**"
      ]
    },
    {
      "cell_type": "code",
      "execution_count": 6,
      "metadata": {
        "colab": {
          "base_uri": "https://localhost:8080/"
        },
        "id": "cps7vOPdSnOo",
        "outputId": "43161b20-e379-4c9f-81cd-33007714f4c4"
      },
      "outputs": [
        {
          "name": "stdout",
          "output_type": "stream",
          "text": [
            "DataFrame indexing by date and time:\n",
            "\n",
            "\n",
            "             Street    ID Class first_name last_name  Age\n",
            "DOB                                                      \n",
            "2002-05-15  Streat1  S001     V    Alberto    Franco   35\n",
            "2002-05-17  Streat2  S002     V       Gino   Mcneill   32\n",
            "1999-02-16  Streat3  S003    VI       Ryan    Parkes   33\n",
            "1998-09-25  Streat4  S004    VI      Eesha    Hinton   30\n",
            "2002-05-11  Streat5  S005     V       Gino   Mcneill   31\n",
            "1997-09-15  Streat6  S006    VI      David    Parkes   32\n",
            "\n",
            "\n"
          ]
        },
        {
          "name": "stderr",
          "output_type": "stream",
          "text": [
            "C:\\Users\\Disney\\AppData\\Local\\Temp\\ipykernel_5748\\3037782407.py:15: UserWarning: Parsing dates in %d/%m/%Y format when dayfirst=False (the default) was specified. Pass `dayfirst=True` or specify a format to silence this warning.\n",
            "  df['DOB'] = pd.to_datetime(df['DOB'])\n"
          ]
        }
      ],
      "source": [
        "import pandas as pd\n",
        "# Sample data\n",
        "data = {\n",
        "    'Street': ['Streat1', 'Streat2', 'Streat3', 'Streat4', 'Streat5', 'Streat6'],\n",
        "    'ID': ['S001', 'S002', 'S003', 'S004', 'S005', 'S006'],\n",
        "    'Class': ['V', 'V', 'VI', 'VI', 'V', 'VI'],\n",
        "    'first_name': ['Alberto', 'Gino', 'Ryan', 'Eesha', 'Gino', 'David'],\n",
        "    'last_name': ['Franco', 'Mcneill', 'Parkes', 'Hinton', 'Mcneill', 'Parkes'],\n",
        "    'DOB': ['15/05/2002', '17/05/2002', '16/02/1999', '25/09/1998', '11/05/2002', '15/09/1997'],\n",
        "    'Age': [35, 32, 33, 30, 31, 32]\n",
        "                     }\n",
        "# Creating DataFrame\n",
        "df = pd.DataFrame(data)\n",
        "# Converting 'DOB' column to datetime format\n",
        "df['DOB'] = pd.to_datetime(df['DOB'])\n",
        "# Setting 'DOB' column as the index\n",
        "df.set_index('DOB', inplace=True)\n",
        "# Displaying the DataFrame indexing by date and time\n",
        "print(\"DataFrame indexing by date and time:\")\n",
        "print(\"\\n\")\n",
        "print(df)\n",
        "print(\"\\n\")"
      ]
    },
    {
      "cell_type": "markdown",
      "metadata": {
        "id": "fJtKhldtTBW7"
      },
      "source": [
        "**10. Write a Pandas program to create a dataframe and set a title or name of the**\n",
        "**index column.**"
      ]
    },
    {
      "cell_type": "code",
      "execution_count": 28,
      "metadata": {
        "colab": {
          "base_uri": "https://localhost:8080/"
        },
        "id": "H7NAlYxRTHat",
        "outputId": "22942eb9-718e-4b0c-e7a8-be36f49dd82e"
      },
      "outputs": [
        {
          "name": "stdout",
          "output_type": "stream",
          "text": [
            "               Street    ID Class first_name last_name         DOB  Age\n",
            "Index_Column                                                           \n",
            "0             Streat1  S001     V    Alberto    Franco  15/05/2002   35\n",
            "1             Streat2  S002     V       Gino   Mcneill  17/05/2002   32\n",
            "2             Streat3  S003    VI       Ryan    Parkes  16/02/1999   33\n",
            "3             Streat4  S004    VI      Eesha    Hinton  25/09/1998   30\n",
            "4             Streat5  S005     V       Gino   Mcneill  11/05/2002   31\n",
            "5             Streat6  S006    VI      David    Parkes  15/09/1997   32\n"
          ]
        }
      ],
      "source": [
        "import pandas as pd\n",
        "# Test Data\n",
        "data = {\n",
        "    'Street': ['Streat1', 'Streat2', 'Streat3', 'Streat4', 'Streat5', 'Streat6'],\n",
        "    'ID': ['S001', 'S002', 'S003', 'S004', 'S005', 'S006'],\n",
        "    'Class': ['V', 'V', 'VI', 'VI', 'V', 'VI'],\n",
        "    'first_name': ['Alberto', 'Gino', 'Ryan', 'Eesha', 'Gino', 'David'],\n",
        "    'last_name': ['Franco', 'Mcneill', 'Parkes', 'Hinton', 'Mcneill', 'Parkes'],\n",
        "    'DOB': ['15/05/2002', '17/05/2002', '16/02/1999', '25/09/1998', '11/05/2002', '15/09/1997'],\n",
        "    'Age': [35, 32, 33, 30, 31, 32]\n",
        "                   }\n",
        "# Creating DataFrame\n",
        "df = pd.DataFrame(data)\n",
        "# Setting a title or name for the index column\n",
        "df.index.name = 'Index_Column'\n",
        "# Displaying the DataFrame\n",
        "print(df)"
      ]
    },
    {
      "cell_type": "markdown",
      "metadata": {
        "id": "wNTUh6OVT_mW"
      },
      "source": [
        "**11. Write a Pandas program to select a specific row of given series/dataframe** **by integer index.**"
      ]
    },
    {
      "cell_type": "code",
      "execution_count": 7,
      "metadata": {
        "colab": {
          "base_uri": "https://localhost:8080/"
        },
        "id": "gvYH4xWtUjls",
        "outputId": "b98a5c6f-dc97-482e-bb8f-ea34f6a3fb48"
      },
      "outputs": [
        {
          "name": "stdout",
          "output_type": "stream",
          "text": [
            "Selected Row:\n",
            "\n",
            "\n",
            "Street           Streat3\n",
            "ID                  S003\n",
            "Class                 VI\n",
            "first_name          Ryan\n",
            "last_name         Parkes\n",
            "DOB           16/02/1999\n",
            "Age                   33\n",
            "Name: 2, dtype: object\n"
          ]
        }
      ],
      "source": [
        "import pandas as pd\n",
        "# Test Data\n",
        "data = {\n",
        "    'Street': ['Streat1', 'Streat2', 'Streat3', 'Streat4', 'Streat5', 'Streat6'],\n",
        "    'ID': ['S001', 'S002', 'S003', 'S004', 'S005', 'S006'],\n",
        "    'Class': ['V', 'V', 'VI', 'VI', 'V', 'VI'],\n",
        "    'first_name': ['Alberto', 'Gino', 'Ryan', 'Eesha', 'Gino', 'David'],\n",
        "    'last_name': ['Franco', 'Mcneill', 'Parkes', 'Hinton', 'Mcneill', 'Parkes'],\n",
        "    'DOB': ['15/05/2002', '17/05/2002', '16/02/1999', '25/09/1998', '11/05/2002', '15/09/1997'],\n",
        "    'Age': [35, 32, 33, 30, 31, 32]\n",
        "                     }\n",
        "# Creating DataFrame\n",
        "df = pd.DataFrame(data)\n",
        "# Selecting a specific row by integer index\n",
        "specific_row = df.iloc[2]  # Selecting the third row (index starts from 0)\n",
        "# Displaying the selected row\n",
        "print(\"Selected Row:\")\n",
        "print(\"\\n\")\n",
        "print(specific_row)"
      ]
    },
    {
      "cell_type": "code",
      "execution_count": null,
      "metadata": {},
      "outputs": [],
      "source": []
    }
  ],
  "metadata": {
    "colab": {
      "provenance": []
    },
    "kernelspec": {
      "display_name": "Python 3",
      "name": "python3"
    },
    "language_info": {
      "codemirror_mode": {
        "name": "ipython",
        "version": 3
      },
      "file_extension": ".py",
      "mimetype": "text/x-python",
      "name": "python",
      "nbconvert_exporter": "python",
      "pygments_lexer": "ipython3",
      "version": "3.11.5"
    }
  },
  "nbformat": 4,
  "nbformat_minor": 0
}
